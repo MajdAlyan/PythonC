{
 "cells": [
  {
   "cell_type": "code",
   "execution_count": 25,
   "id": "06954395",
   "metadata": {},
   "outputs": [
    {
     "name": "stdout",
     "output_type": "stream",
     "text": [
      "[4.8, 1.21, 2.385]\n"
     ]
    }
   ],
   "source": [
    "inputs = [1, 2, 3,2.5]\n",
    "weights1 = [0.2,0.8,-0.5,1.0]\n",
    "weights2 = [0.5,-0.91,0.26,-0.5]\n",
    "weights3 = [-0.26,-0.27,0.17,0.87]\n",
    "\n",
    "bias1 = 2\n",
    "bias2 = 3\n",
    "bias3 = 0.5\n",
    "\n",
    "\n",
    "\n",
    "output = [inputs[0] * weights1[0] + inputs[1] * weights1[1] + inputs[2] * weights1[2] + inputs[3] * weights1[3]+ bias1,\n",
    "          inputs[0] * weights2[0] + inputs[1] * weights2[1] + inputs[2] * weights2[2] + inputs[3] * weights2[3] + bias2,\n",
    "          inputs[0] * weights3[0] + inputs[1] * weights3[1] + inputs[2] * weights3[2] + inputs[3] * weights3[3] + bias3\n",
    "         ]\n",
    "          \n",
    "print(output)"
   ]
  },
  {
   "cell_type": "code",
   "execution_count": 26,
   "id": "378e1f05",
   "metadata": {},
   "outputs": [
    {
     "name": "stdout",
     "output_type": "stream",
     "text": [
      "[3.8, 1.68, 1.5]\n"
     ]
    }
   ],
   "source": [
    "import numpy as np\n",
    "inputs = np.array([1, 2])\n",
    "\n",
    "weights = np.array([[0.2,0.8],\n",
    "                    [0.5,-0.91],\n",
    "                     [0.6,0.2]])\n",
    "biases = np.array([2,3,0.5])\n",
    "\n",
    "layer_outputs = []\n",
    "for neuron_weights, neuron_bias in zip(weights, biases):\n",
    "    neuron_output = 0 # Output of given neuron\n",
    "    for n_input, weight in zip(inputs, neuron_weights):\n",
    "        neuron_output += n_input*weight\n",
    "    neuron_output += neuron_bias\n",
    "    layer_outputs.append(neuron_output)\n",
    "    \n",
    "print(layer_outputs)\n"
   ]
  },
  {
   "cell_type": "code",
   "execution_count": 27,
   "id": "75727eed",
   "metadata": {},
   "outputs": [
    {
     "data": {
      "text/plain": [
       "((3, 2), (2,), (3,))"
      ]
     },
     "execution_count": 27,
     "metadata": {},
     "output_type": "execute_result"
    }
   ],
   "source": [
    "weights.shape,inputs.shape, biases.shape"
   ]
  },
  {
   "cell_type": "code",
   "execution_count": 28,
   "id": "00591a47",
   "metadata": {},
   "outputs": [
    {
     "data": {
      "text/plain": [
       "array([3.8 , 1.68, 1.5 ])"
      ]
     },
     "execution_count": 28,
     "metadata": {},
     "output_type": "execute_result"
    }
   ],
   "source": [
    "import numpy as np\n",
    "outputss = np.dot(weights, inputs) + biases\n",
    "outputss"
   ]
  },
  {
   "cell_type": "code",
   "execution_count": 29,
   "id": "97247c4f",
   "metadata": {},
   "outputs": [],
   "source": [
    "#import numpy as np\n",
    "#inputs = [1, 2, 3,2.5]\n",
    "\n",
    "#weights = [0.2,0.8,-0.5,1.0]\n",
    "#bias = 2\n",
    "#output = np.dot(weights, inputs) + bias \n",
    "#print(output)\n"
   ]
  },
  {
   "cell_type": "code",
   "execution_count": null,
   "id": "9c33a8b5",
   "metadata": {},
   "outputs": [],
   "source": []
  },
  {
   "cell_type": "code",
   "execution_count": 30,
   "id": "3a9adf9e",
   "metadata": {},
   "outputs": [
    {
     "name": "stdout",
     "output_type": "stream",
     "text": [
      "[4.8   1.21  2.385]\n"
     ]
    }
   ],
   "source": [
    "import numpy as np\n",
    "\n",
    "inputs = [1, 2, 3,2.5]\n",
    "\n",
    "weights = [[0.2,0.8,-0.5,1.0],\n",
    "           [0.5,-0.91,0.26,-0.5], \n",
    "           [-0.26,-0.27,0.17,0.87]]\n",
    "biases = [2,3,0.5]\n",
    "output = np.dot(weights, inputs) + biases\n",
    "print(output)\n"
   ]
  },
  {
   "cell_type": "code",
   "execution_count": 31,
   "id": "5f7cd65e",
   "metadata": {},
   "outputs": [
    {
     "data": {
      "text/plain": [
       "(3, 4)"
      ]
     },
     "execution_count": 31,
     "metadata": {},
     "output_type": "execute_result"
    }
   ],
   "source": [
    "np.shape(weights)"
   ]
  },
  {
   "cell_type": "code",
   "execution_count": null,
   "id": "c7b2a5e5",
   "metadata": {},
   "outputs": [],
   "source": []
  }
 ],
 "metadata": {
  "kernelspec": {
   "display_name": "Python 3 (ipykernel)",
   "language": "python",
   "name": "python3"
  },
  "language_info": {
   "codemirror_mode": {
    "name": "ipython",
    "version": 3
   },
   "file_extension": ".py",
   "mimetype": "text/x-python",
   "name": "python",
   "nbconvert_exporter": "python",
   "pygments_lexer": "ipython3",
   "version": "3.10.6"
  }
 },
 "nbformat": 4,
 "nbformat_minor": 5
}
