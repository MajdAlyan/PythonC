{
 "cells": [
  {
   "cell_type": "code",
   "execution_count": 2,
   "id": "da576e0d-4004-4ad1-898b-3d673fbf90a5",
   "metadata": {},
   "outputs": [
    {
     "name": "stdout",
     "output_type": "stream",
     "text": [
      "['cali1.png', 'cali10.png', 'cali2.png', 'cali3.png', 'cali4.png', 'cali5.png', 'cali6.png', 'cali7.png', 'cali8.png', 'cali9.png', 'calibration.png', 'calibration_applications.png', 'calibration_cameramodel_coords.png', 'calibration_camera_matrix.png', 'calibration_coordinate_blocks.png', 'calibration_radial_distortion.png', 'calibration_rt_coordinates.png', 'calibration_skew.png', 'calibration_tangential_distortion.png', 'caliResult1.png', 'caliResult2.png', 'camera_calibration_focal_point.png', 'car.png', 'Checkboard.png', 'Chessboard.png', 'Das Lochkamera.png', 'Illustration-of-a-transverse-wave-and-a-longitudinal-wave.png', 'Image1.png', 'Image10.png', 'Image11.png', 'Image12.png', 'Image13.png', 'Image14.png', 'Image15.png', 'Image16.png', 'Image17.png', 'Image18.png', 'Image19.png', 'Image2.png', 'Image20.png', 'Image21.png', 'Image22.png', 'Image23.png', 'Image24.png', 'Image3.png', 'Image4.png', 'Image5.png', 'Image6.png', 'Image7.png', 'Image8.png', 'Image9.png', 'newimage.png', 'ohne.png', 'pinhole_fisheye.png', 'Rotation270 überarbeitet.png', 'splash_20220510T214913.png', 'Verzeichnung.png']\n"
     ]
    }
   ],
   "source": [
    "import numpy as np\n",
    "import cv2 as cv\n",
    "import glob\n",
    "\n",
    "\n",
    "\n",
    "################ FIND CHESSBOARD CORNERS - OBJECT POINTS AND IMAGE POINTS #############################\n",
    "\n",
    "chessboardSize = (24,17)\n",
    "frameSize = (1440,1080)\n",
    "\n",
    "\n",
    "\n",
    "# termination criteria\n",
    "criteria = (cv.TERM_CRITERIA_EPS + cv.TERM_CRITERIA_MAX_ITER, 30, 0.001)\n",
    "\n",
    "\n",
    "# prepare object points, like (0,0,0), (1,0,0), (2,0,0) ....,(6,5,0)\n",
    "objp = np.zeros((chessboardSize[0] * chessboardSize[1], 3), np.float32)\n",
    "objp[:,:2] = np.mgrid[0:chessboardSize[0],0:chessboardSize[1]].T.reshape(-1,2)\n",
    "\n",
    "size_of_chessboard_squares_mm = 20\n",
    "objp = objp * size_of_chessboard_squares_mm\n",
    "\n",
    "\n",
    "# Arrays to store object points and image points from all the images.\n",
    "objpoints = [] # 3d point in real world space\n",
    "imgpoints = [] # 2d points in image plane.\n",
    "\n",
    "\n",
    "images = glob.glob('*.png')\n",
    "print(images)"
   ]
  },
  {
   "cell_type": "code",
   "execution_count": 2,
   "id": "4cc24a40-790e-4873-8e11-19ef66aeaf71",
   "metadata": {},
   "outputs": [
    {
     "ename": "error",
     "evalue": "OpenCV(4.5.5) D:\\a\\opencv-python\\opencv-python\\opencv\\modules\\imgproc\\src\\color.cpp:182: error: (-215:Assertion failed) !_src.empty() in function 'cv::cvtColor'\n",
     "output_type": "error",
     "traceback": [
      "\u001b[1;31m---------------------------------------------------------------------------\u001b[0m",
      "\u001b[1;31merror\u001b[0m                                     Traceback (most recent call last)",
      "\u001b[1;32m~\\AppData\\Local\\Temp/ipykernel_10904/1333675766.py\u001b[0m in \u001b[0;36m<module>\u001b[1;34m\u001b[0m\n\u001b[0;32m      2\u001b[0m \u001b[1;33m\u001b[0m\u001b[0m\n\u001b[0;32m      3\u001b[0m     \u001b[0mimg\u001b[0m \u001b[1;33m=\u001b[0m \u001b[0mcv\u001b[0m\u001b[1;33m.\u001b[0m\u001b[0mimread\u001b[0m\u001b[1;33m(\u001b[0m\u001b[0mimage\u001b[0m\u001b[1;33m)\u001b[0m\u001b[1;33m\u001b[0m\u001b[1;33m\u001b[0m\u001b[0m\n\u001b[1;32m----> 4\u001b[1;33m     \u001b[0mgray\u001b[0m \u001b[1;33m=\u001b[0m \u001b[0mcv\u001b[0m\u001b[1;33m.\u001b[0m\u001b[0mcvtColor\u001b[0m\u001b[1;33m(\u001b[0m\u001b[0mimg\u001b[0m\u001b[1;33m,\u001b[0m \u001b[0mcv\u001b[0m\u001b[1;33m.\u001b[0m\u001b[0mCOLOR_BGR2GRAY\u001b[0m\u001b[1;33m)\u001b[0m\u001b[1;33m\u001b[0m\u001b[1;33m\u001b[0m\u001b[0m\n\u001b[0m\u001b[0;32m      5\u001b[0m \u001b[1;33m\u001b[0m\u001b[0m\n\u001b[0;32m      6\u001b[0m     \u001b[1;31m# Find the chess board corners\u001b[0m\u001b[1;33m\u001b[0m\u001b[1;33m\u001b[0m\u001b[0m\n",
      "\u001b[1;31merror\u001b[0m: OpenCV(4.5.5) D:\\a\\opencv-python\\opencv-python\\opencv\\modules\\imgproc\\src\\color.cpp:182: error: (-215:Assertion failed) !_src.empty() in function 'cv::cvtColor'\n"
     ]
    }
   ],
   "source": [
    "for image in images:\n",
    "    \n",
    "    img = cv.imread(image)\n",
    "    gray = cv.cvtColor(img, cv.COLOR_BGR2GRAY)\n",
    "\n",
    "    # Find the chess board corners\n",
    "    ret, corners = cv.findChessboardCorners(gray, chessboardSize, None)\n",
    "\n",
    "    # If found, add object points, image points (after refining them)\n",
    "    if ret == True:\n",
    "\n",
    "        objpoints.append(objp)\n",
    "        corners2 = cv.cornerSubPix(gray, corners, (11,11), (-1,-1), criteria)\n",
    "        imgpoints.append(corners)\n",
    "\n",
    "        # Draw and display the corners\n",
    "        cv.drawChessboardCorners(img, chessboardSize, corners2, ret)\n",
    "        cv.imshow('img', img)\n",
    "        cv.waitKey(1000)\n",
    "\n",
    "\n",
    "cv.destroyAllWindows()\n",
    "\n",
    "\n",
    "\n",
    "\n",
    "############## CALIBRATION #######################################################\n",
    "\n",
    "ret, cameraMatrix, dist, rvecs, tvecs = cv.calibrateCamera(objpoints, imgpoints, frameSize, None, None)\n",
    "\n",
    "\n",
    "############## UNDISTORTION #####################################################\n",
    "\n",
    "img = cv.imread('cali5.png')\n",
    "h,  w = img.shape[:2]\n",
    "newCameraMatrix, roi = cv.getOptimalNewCameraMatrix(cameraMatrix, dist, (w,h), 1, (w,h))\n",
    "\n",
    "\n",
    "\n",
    "# Undistort\n",
    "dst = cv.undistort(img, cameraMatrix, dist, None, newCameraMatrix)\n",
    "\n",
    "# crop the image\n",
    "x, y, w, h = roi\n",
    "dst = dst[y:y+h, x:x+w]\n",
    "cv.imwrite('caliResult1.png', dst)\n",
    "\n",
    "\n",
    "\n",
    "# Undistort with Remapping\n",
    "mapx, mapy = cv.initUndistortRectifyMap(cameraMatrix, dist, None, newCameraMatrix, (w,h), 5)\n",
    "dst = cv.remap(img, mapx, mapy, cv.INTER_LINEAR)\n",
    "\n",
    "# crop the image\n",
    "x, y, w, h = roi\n",
    "dst = dst[y:y+h, x:x+w]\n",
    "cv.imwrite('caliResult2.png', dst)\n",
    "\n",
    "\n",
    "\n",
    "\n",
    "# Reprojection Error\n",
    "mean_error = 0\n",
    "\n",
    "for i in range(len(objpoints)):\n",
    "    imgpoints2, _ = cv.projectPoints(objpoints[i], rvecs[i], tvecs[i], cameraMatrix, dist)\n",
    "    error = cv.norm(imgpoints[i], imgpoints2, cv.NORM_L2)/len(imgpoints2)\n",
    "    mean_error += error\n",
    "\n",
    "print( \"total error: {}\".format(mean_error/len(objpoints)) )"
   ]
  },
  {
   "cell_type": "code",
   "execution_count": null,
   "id": "3df77023-1195-418d-bfe1-baf4533c97f7",
   "metadata": {},
   "outputs": [],
   "source": []
  }
 ],
 "metadata": {
  "kernelspec": {
   "display_name": "Python 3 (ipykernel)",
   "language": "python",
   "name": "python3"
  },
  "language_info": {
   "codemirror_mode": {
    "name": "ipython",
    "version": 3
   },
   "file_extension": ".py",
   "mimetype": "text/x-python",
   "name": "python",
   "nbconvert_exporter": "python",
   "pygments_lexer": "ipython3",
   "version": "3.9.7"
  }
 },
 "nbformat": 4,
 "nbformat_minor": 5
}
