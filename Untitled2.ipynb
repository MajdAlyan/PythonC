{
 "cells": [
  {
   "cell_type": "code",
   "execution_count": 57,
   "id": "d611a45c-4d20-451e-85dd-b03e6c07d5fb",
   "metadata": {},
   "outputs": [],
   "source": [
    "import cv2 as cv "
   ]
  },
  {
   "cell_type": "code",
   "execution_count": 58,
   "id": "91a89f38-0a9f-497c-a111-9f5a86e256e7",
   "metadata": {},
   "outputs": [],
   "source": [
    "img = cv.imread('1.jpg')"
   ]
  },
  {
   "cell_type": "code",
   "execution_count": 59,
   "id": "3108dec1-3beb-446c-b501-910ca46b1cf0",
   "metadata": {},
   "outputs": [],
   "source": [
    "cv.imshow('image',img)\n",
    "cv.waitKey(0)\n",
    "cv.destroyAllWindows()"
   ]
  },
  {
   "cell_type": "code",
   "execution_count": 60,
   "id": "652b5b3c-82cf-4fe8-9d0e-5fc9f6860071",
   "metadata": {},
   "outputs": [],
   "source": [
    "img2 = cv.imread('pier.jpg', 0)\n",
    "cv.imshow('image', img2)\n",
    "cv.waitKey(0)\n",
    "cv.destroyAllWindows()"
   ]
  },
  {
   "cell_type": "code",
   "execution_count": 61,
   "id": "9a14316c-ccb7-408d-8888-875be4859975",
   "metadata": {},
   "outputs": [],
   "source": [
    "img3 = cv.imread('rgb.jpg',1)\n",
    "cv.imshow('rgb_image', img3)\n",
    "cv.waitKey(0)\n",
    "cv.destroyAllWindows()"
   ]
  },
  {
   "cell_type": "code",
   "execution_count": 62,
   "id": "bc663289-f68e-469b-a9f2-94aca8a1c5b9",
   "metadata": {},
   "outputs": [
    {
     "data": {
      "text/plain": [
       "array([[0, 0, 0, ..., 0, 0, 0],\n",
       "       [0, 0, 0, ..., 0, 0, 0],\n",
       "       [0, 0, 0, ..., 0, 0, 0],\n",
       "       ...,\n",
       "       [0, 0, 0, ..., 0, 0, 0],\n",
       "       [0, 0, 0, ..., 0, 0, 0],\n",
       "       [0, 0, 0, ..., 0, 0, 0]], dtype=uint8)"
      ]
     },
     "execution_count": 62,
     "metadata": {},
     "output_type": "execute_result"
    }
   ],
   "source": [
    "blue = img3[:,:,0]\n",
    "blue"
   ]
  },
  {
   "cell_type": "code",
   "execution_count": 63,
   "id": "05e70e27-1127-4ec0-bc92-52a120ad45aa",
   "metadata": {},
   "outputs": [],
   "source": [
    "import numpy as np\n",
    "zeroImg = np.zeros((img3.shape[0], img3.shape[1]), img3.dtype)"
   ]
  },
  {
   "cell_type": "code",
   "execution_count": 64,
   "id": "ed184a02-ef6d-4862-af29-3abcbd991000",
   "metadata": {},
   "outputs": [],
   "source": [
    "(blue_channel, red_schannel, green_channel) = cv.split(img3)\n",
    "blue_img = cv.merge([blue_channel, zeroImg, zeroImg])\n",
    "green_img = cv.merge([zeroImg, green_channel, zeroImg])\n",
    "red_img = cv.merge([zeroImg, zeroImg, red_schannel])\n"
   ]
  },
  {
   "cell_type": "code",
   "execution_count": 66,
   "id": "34986ccd-5e7b-46cc-9c3e-baf389ed1222",
   "metadata": {},
   "outputs": [],
   "source": [
    "cv.imshow('img',blue_img)\n",
    "cv.waitKey(0)\n",
    "cv.destroyAllWindows()"
   ]
  },
  {
   "cell_type": "code",
   "execution_count": null,
   "id": "2ffe7b19-3144-4a6e-aa39-d3638321fe80",
   "metadata": {},
   "outputs": [],
   "source": []
  }
 ],
 "metadata": {
  "kernelspec": {
   "display_name": "Python 3 (ipykernel)",
   "language": "python",
   "name": "python3"
  },
  "language_info": {
   "codemirror_mode": {
    "name": "ipython",
    "version": 3
   },
   "file_extension": ".py",
   "mimetype": "text/x-python",
   "name": "python",
   "nbconvert_exporter": "python",
   "pygments_lexer": "ipython3",
   "version": "3.9.7"
  }
 },
 "nbformat": 4,
 "nbformat_minor": 5
}
