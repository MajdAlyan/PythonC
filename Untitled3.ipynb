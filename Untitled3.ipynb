{
 "cells": [
  {
   "cell_type": "code",
   "execution_count": 103,
   "id": "4a481875-4a36-416b-97cb-265e837df216",
   "metadata": {},
   "outputs": [],
   "source": [
    "import cv2 as cv\n",
    "import numpy as np"
   ]
  },
  {
   "cell_type": "code",
   "execution_count": 104,
   "id": "8f589697-6b4a-486a-a56e-c6a08bdb7f7c",
   "metadata": {},
   "outputs": [],
   "source": [
    "img = cv.imread('rgb.jpg', 1)\n",
    "cv.imshow('image',img) # show the image\n",
    "\n",
    "cv.waitKey(0) # waiting for a key pressed\n",
    "cv.destroyAllWindows() "
   ]
  },
  {
   "cell_type": "code",
   "execution_count": 140,
   "id": "a52ed208-0365-4bc9-bee1-67e108e613b2",
   "metadata": {},
   "outputs": [
    {
     "data": {
      "text/plain": [
       "array([[ 74,  70,  71, ...,  72,  75,  73],\n",
       "       [ 75,  76,  74, ...,  75,  77,  75],\n",
       "       [ 76,  76,  76, ...,  79,  77,  76],\n",
       "       ...,\n",
       "       [183, 179, 178, ..., 147, 148, 139],\n",
       "       [186, 177, 179, ..., 137, 145, 147],\n",
       "       [184, 177, 177, ..., 147, 131, 141]], dtype=uint8)"
      ]
     },
     "execution_count": 140,
     "metadata": {},
     "output_type": "execute_result"
    }
   ],
   "source": [
    "img2 = cv.imread('pier.jpg', 0)\n",
    "cv.imshow('image',img2) \n",
    "\n",
    "cv.waitKey(0)\n",
    "cv.destroyAllWindows() \n",
    "img2"
   ]
  },
  {
   "cell_type": "code",
   "execution_count": 106,
   "id": "930fe062-9818-458c-8561-74b1a6e75763",
   "metadata": {},
   "outputs": [],
   "source": [
    "blue = img[:,:, 0]\n",
    "green = img[:,:,1]\n",
    "red = img[:,:,2]"
   ]
  },
  {
   "cell_type": "code",
   "execution_count": 110,
   "id": "f3ca6bb8-9e1b-4baf-a7e1-796595d1902d",
   "metadata": {},
   "outputs": [],
   "source": [
    "(blue, green, red) = cv.split(img)"
   ]
  },
  {
   "cell_type": "code",
   "execution_count": 111,
   "id": "2fff634e-3b69-464e-9d99-af0acc49fbc2",
   "metadata": {},
   "outputs": [],
   "source": [
    "cv.imshow('image',blue) \n",
    "\n",
    "cv.waitKey(0) \n",
    "cv.destroyAllWindows() "
   ]
  },
  {
   "cell_type": "code",
   "execution_count": 118,
   "id": "e01e4588-012e-4601-968c-b61f5bc5f0f0",
   "metadata": {},
   "outputs": [],
   "source": [
    "import cv2\n",
    "import numpy as np\n",
    "img=cv2.imread('rgb.jpg')\n",
    "#create empty image (one channel) with same size of the input image\n",
    "zeroImg=np.zeros((img.shape[0],img.shape[1]), img.dtype)\n",
    "#getthechannels\n",
    "(blue_channel,green_channel,red_channel)=cv2.split(img)\n",
    "#createnewimageswiththreechannelsperimage and assignthecolorchannels\n",
    "blue_img=cv2.merge([blue_channel,zeroImg,zeroImg])\n",
    "green_img=cv2.merge([zeroImg,green_channel,zeroImg])\n",
    "red_img=cv2.merge([zeroImg,zeroImg,red_channel])\n",
    "\n",
    "cv.imshow('blue',blue_img)\n",
    "\n",
    "cv.waitKey(0) \n",
    "cv.destroyAllWindows() \n",
    "\n"
   ]
  },
  {
   "cell_type": "code",
   "execution_count": 147,
   "id": "2731a8b7-4325-4e9b-8383-631805ba9ceb",
   "metadata": {},
   "outputs": [],
   "source": [
    "import numpy as np \n",
    "import cv2\n",
    "\n",
    "# read the image\n",
    "img4 = cv2.imread('pier.jpg',0) \n",
    "\n",
    "if len(img4.shape)==2: # grayscale image\n",
    "    # iterate by loop\n",
    "    for y in range(img4.shape[0]): # height\n",
    "        for x in range(img4.shape[1]): # width\n",
    "            if img4[y,x] >= 1: img4[y,x] = 0\n",
    "            \n",
    "\n",
    "if len(img4.shape)==3: # color image\n",
    "    # iterate by loop\n",
    "    for y in range(img4.shape[0]): # height\n",
    "        for x in range(img4.shape[1]): # width\n",
    "            for c in range(img4.shape[2]): # channels\n",
    "                if img4[y,x,c] == 125: img4[y,x,c] = 255\n",
    "\n",
    "# show the images\n",
    "cv2.imshow('output', img4)\n",
    "\n",
    "cv2.waitKey(0) # waiting for a key pressed\n",
    "cv2.destroyAllWindows()"
   ]
  },
  {
   "cell_type": "code",
   "execution_count": 136,
   "id": "21c78569-70fe-44da-8995-202c01c293c0",
   "metadata": {},
   "outputs": [
    {
     "data": {
      "text/plain": [
       "(598, 800)"
      ]
     },
     "execution_count": 136,
     "metadata": {},
     "output_type": "execute_result"
    }
   ],
   "source": [
    "img4.shape"
   ]
  },
  {
   "cell_type": "code",
   "execution_count": 138,
   "id": "a8087214-97e0-4b63-b8ea-c64889d7b633",
   "metadata": {},
   "outputs": [
    {
     "data": {
      "text/plain": [
       "array([[ 74,  70,  71, ...,  72,  75,  73],\n",
       "       [ 75,  76,  74, ...,  75,  77,  75],\n",
       "       [ 76,  76,  76, ...,  79,  77,  76],\n",
       "       ...,\n",
       "       [183, 179, 178, ..., 147, 148, 139],\n",
       "       [186, 177, 179, ..., 137, 145, 147],\n",
       "       [184, 177, 177, ..., 147, 131, 141]], dtype=uint8)"
      ]
     },
     "execution_count": 138,
     "metadata": {},
     "output_type": "execute_result"
    }
   ],
   "source": [
    "img2"
   ]
  },
  {
   "cell_type": "code",
   "execution_count": null,
   "id": "af140f74-6688-43df-8f3b-06151c11207e",
   "metadata": {},
   "outputs": [],
   "source": []
  }
 ],
 "metadata": {
  "kernelspec": {
   "display_name": "Python 3 (ipykernel)",
   "language": "python",
   "name": "python3"
  },
  "language_info": {
   "codemirror_mode": {
    "name": "ipython",
    "version": 3
   },
   "file_extension": ".py",
   "mimetype": "text/x-python",
   "name": "python",
   "nbconvert_exporter": "python",
   "pygments_lexer": "ipython3",
   "version": "3.9.7"
  }
 },
 "nbformat": 4,
 "nbformat_minor": 5
}
