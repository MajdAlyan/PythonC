{
 "cells": [
  {
   "cell_type": "code",
   "execution_count": null,
   "id": "3cdd32db",
   "metadata": {},
   "outputs": [],
   "source": [
    "import tensorflow as tf \n",
    "import matplotlib.pyplot as plt"
   ]
  },
  {
   "cell_type": "code",
   "execution_count": null,
   "id": "156d2495",
   "metadata": {},
   "outputs": [],
   "source": [
    "(X_train, y_train), (X_test, y_test) = tf.keras.datasets.cifar10.load_data()\n",
    "X_train, X_test = X_train/255.0, X_test/255.0"
   ]
  },
  {
   "cell_type": "code",
   "execution_count": null,
   "id": "6c0aa1bd",
   "metadata": {},
   "outputs": [],
   "source": [
    "tf.random.set_seed(42)\n",
    "\n",
    "model = tf.keras.models.Sequential([\n",
    "    tf.keras.layers.InputLayer(input_shape=(32,32,3), name='In'),\n",
    "    tf.keras.layers.Conv2D(filters=6, kernel_size=5, activation='tanh',strides=1, name='C1'),\n",
    "    tf.keras.layers.AveragePooling2D(strides=2,name='S2'),\n",
    "    tf.keras.layers.Conv2D(filters=16, kernel_size=5, activation='tanh', strides=1, name='C3'),\n",
    "    tf.keras.layers.AveragePooling2D(strides=2,name='S4'),\n",
    "    tf.keras.layers.Conv2D(filters=120, kernel_size=5, activation='tanh',strides=1, name='C5'),\n",
    "    tf.keras.layers.Flatten(),\n",
    "    tf.keras.layers.Dense(84, activation='tanh', name='F6'),\n",
    "    tf.keras.layers.Dense(10, activation='softmax', name='Out')\n",
    "\n",
    "    \n",
    "])"
   ]
  },
  {
   "cell_type": "code",
   "execution_count": null,
   "id": "57ad37fe",
   "metadata": {},
   "outputs": [],
   "source": [
    "model.summary()"
   ]
  },
  {
   "cell_type": "code",
   "execution_count": null,
   "id": "1c67157a",
   "metadata": {},
   "outputs": [],
   "source": [
    "model.compile(loss='SparseCategoricalCrossentropy', \n",
    "             optimizer=tf.keras.optimizers.Adam(),\n",
    "             metrics=['accuracy'])"
   ]
  },
  {
   "cell_type": "code",
   "execution_count": null,
   "id": "d8b4c421",
   "metadata": {},
   "outputs": [],
   "source": [
    "#model.fit(X_train, y_train, epochs=100)"
   ]
  },
  {
   "cell_type": "code",
   "execution_count": null,
   "id": "c58ff4cd",
   "metadata": {},
   "outputs": [],
   "source": [
    "y_pred = model.predict(X_test)\n",
    "y_pred[0]"
   ]
  },
  {
   "cell_type": "code",
   "execution_count": null,
   "id": "32e21913",
   "metadata": {},
   "outputs": [],
   "source": [
    "import numpy as np\n",
    "np.argmax(y_pred[7])"
   ]
  },
  {
   "cell_type": "code",
   "execution_count": null,
   "id": "a508101a",
   "metadata": {},
   "outputs": [],
   "source": [
    "y_test[7]"
   ]
  },
  {
   "cell_type": "code",
   "execution_count": null,
   "id": "64e0dbf0",
   "metadata": {},
   "outputs": [],
   "source": []
  }
 ],
 "metadata": {
  "kernelspec": {
   "display_name": "Python 3 (ipykernel)",
   "language": "python",
   "name": "python3"
  },
  "language_info": {
   "codemirror_mode": {
    "name": "ipython",
    "version": 3
   },
   "file_extension": ".py",
   "mimetype": "text/x-python",
   "name": "python",
   "nbconvert_exporter": "python",
   "pygments_lexer": "ipython3",
   "version": "3.9.7"
  }
 },
 "nbformat": 4,
 "nbformat_minor": 5
}
